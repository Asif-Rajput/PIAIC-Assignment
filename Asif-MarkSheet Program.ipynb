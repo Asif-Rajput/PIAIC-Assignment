{
 "cells": [
  {
   "cell_type": "code",
   "execution_count": 13,
   "metadata": {},
   "outputs": [
    {
     "name": "stdout",
     "output_type": "stream",
     "text": [
      "Enter English Marks :78\n",
      "Enter Urdu Marks :72\n",
      "Enter Mathematics Marks :85\n",
      "SUBJECTS       Marks\n",
      "________       _____\n",
      "\n",
      "English     =  78\n",
      "Urdu        =  72\n",
      "Mathematics =  85 \n",
      "\n",
      "Total Marks    =  300\n",
      "Marks Obtained =  235\n",
      "Percentage     =  78.33333333333333\n"
     ]
    }
   ],
   "source": [
    "Eng  =int(input(\"Enter English Marks :\"))\n",
    "Urd  =int(input(\"Enter Urdu Marks :\"))\n",
    "Math =int(input(\"Enter Mathematics Marks :\"))\n",
    "print(\"SUBJECTS       Marks\")\n",
    "print(\"________       _____\\n\")\n",
    "print(\"English     = \",Eng)\n",
    "print(\"Urdu        = \",Urd)\n",
    "print(\"Mathematics = \",Math,\"\\n\")\n",
    "Total_Marks = 300\n",
    "Marks_Obtained = (Eng + Urd + Math)\n",
    "Percentage = (Marks_Obtained/Total_Marks)*100\n",
    "print(\"Total Marks    = \", Total_Marks)\n",
    "print(\"Marks Obtained = \",Marks_Obtained)\n",
    "print(\"Percentage     = \", Percentage)\n",
    "\n"
   ]
  },
  {
   "cell_type": "code",
   "execution_count": null,
   "metadata": {},
   "outputs": [],
   "source": []
  },
  {
   "cell_type": "code",
   "execution_count": null,
   "metadata": {},
   "outputs": [],
   "source": []
  }
 ],
 "metadata": {
  "kernelspec": {
   "display_name": "Python 3",
   "language": "python",
   "name": "python3"
  },
  "language_info": {
   "codemirror_mode": {
    "name": "ipython",
    "version": 3
   },
   "file_extension": ".py",
   "mimetype": "text/x-python",
   "name": "python",
   "nbconvert_exporter": "python",
   "pygments_lexer": "ipython3",
   "version": "3.7.3"
  }
 },
 "nbformat": 4,
 "nbformat_minor": 2
}
